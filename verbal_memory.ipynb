{
 "cells": [
  {
   "cell_type": "code",
   "execution_count": 7,
   "metadata": {},
   "outputs": [],
   "source": [
    "from selenium import webdriver\n",
    "from selenium.webdriver.common.by import By\n",
    "import time"
   ]
  },
  {
   "cell_type": "code",
   "execution_count": 8,
   "metadata": {},
   "outputs": [
    {
     "name": "stderr",
     "output_type": "stream",
     "text": [
      "C:\\Users\\Jian\\AppData\\Local\\Temp\\ipykernel_12872\\1276075214.py:2: DeprecationWarning: executable_path has been deprecated, please pass in a Service object\n",
      "  browser = webdriver.Chrome(PATH)\n"
     ]
    }
   ],
   "source": [
    "PATH = \"C:\\Andy\\Chromedriver\\chromedriver.exe\"\n",
    "browser = webdriver.Chrome(PATH)\n",
    "browser.get('https://humanbenchmark.com/tests/verbal-memory')"
   ]
  },
  {
   "cell_type": "code",
   "execution_count": 9,
   "metadata": {},
   "outputs": [
    {
     "ename": "NoSuchElementException",
     "evalue": "Message: no such element: Unable to locate element: {\"method\":\"css selector\",\"selector\":\".word\"}\n  (Session info: chrome=101.0.4951.67)\nStacktrace:\nBacktrace:\n\tOrdinal0 [0x0080B8F3+2406643]\n\tOrdinal0 [0x0079AF31+1945393]\n\tOrdinal0 [0x0068C748+837448]\n\tOrdinal0 [0x006B92E0+1020640]\n\tOrdinal0 [0x006B957B+1021307]\n\tOrdinal0 [0x006E6372+1205106]\n\tOrdinal0 [0x006D42C4+1131204]\n\tOrdinal0 [0x006E4682+1197698]\n\tOrdinal0 [0x006D4096+1130646]\n\tOrdinal0 [0x006AE636+976438]\n\tOrdinal0 [0x006AF546+980294]\n\tGetHandleVerifier [0x00A79612+2498066]\n\tGetHandleVerifier [0x00A6C920+2445600]\n\tGetHandleVerifier [0x008A4F2A+579370]\n\tGetHandleVerifier [0x008A3D36+574774]\n\tOrdinal0 [0x007A1C0B+1973259]\n\tOrdinal0 [0x007A6688+1992328]\n\tOrdinal0 [0x007A6775+1992565]\n\tOrdinal0 [0x007AF8D1+2029777]\n\tBaseThreadInitThunk [0x7542FA29+25]\n\tRtlGetAppContainerNamedObjectPath [0x77527A7E+286]\n\tRtlGetAppContainerNamedObjectPath [0x77527A4E+238]\n",
     "output_type": "error",
     "traceback": [
      "\u001b[1;31m---------------------------------------------------------------------------\u001b[0m",
      "\u001b[1;31mNoSuchElementException\u001b[0m                    Traceback (most recent call last)",
      "\u001b[1;32mc:\\Andy\\Programming Projects\\human-benchmark-bot\\human-benchmark-bot\\verbal_memory.ipynb Cell 3'\u001b[0m in \u001b[0;36m<cell line: 6>\u001b[1;34m()\u001b[0m\n\u001b[0;32m      <a href='vscode-notebook-cell:/c%3A/Andy/Programming%20Projects/human-benchmark-bot/human-benchmark-bot/verbal_memory.ipynb#ch0000002?line=4'>5</a>\u001b[0m playing  \u001b[39m=\u001b[39m \u001b[39mTrue\u001b[39;00m\n\u001b[0;32m      <a href='vscode-notebook-cell:/c%3A/Andy/Programming%20Projects/human-benchmark-bot/human-benchmark-bot/verbal_memory.ipynb#ch0000002?line=5'>6</a>\u001b[0m \u001b[39mwhile\u001b[39;00m playing:\n\u001b[1;32m----> <a href='vscode-notebook-cell:/c%3A/Andy/Programming%20Projects/human-benchmark-bot/human-benchmark-bot/verbal_memory.ipynb#ch0000002?line=6'>7</a>\u001b[0m     word \u001b[39m=\u001b[39m browser\u001b[39m.\u001b[39;49mfind_element(by\u001b[39m=\u001b[39;49mBy\u001b[39m.\u001b[39;49mCLASS_NAME, value\u001b[39m=\u001b[39;49m\u001b[39m\"\u001b[39;49m\u001b[39mword\u001b[39;49m\u001b[39m\"\u001b[39;49m)\u001b[39m.\u001b[39mtext\n\u001b[0;32m      <a href='vscode-notebook-cell:/c%3A/Andy/Programming%20Projects/human-benchmark-bot/human-benchmark-bot/verbal_memory.ipynb#ch0000002?line=7'>8</a>\u001b[0m     \u001b[39mif\u001b[39;00m word \u001b[39min\u001b[39;00m words:\n\u001b[0;32m      <a href='vscode-notebook-cell:/c%3A/Andy/Programming%20Projects/human-benchmark-bot/human-benchmark-bot/verbal_memory.ipynb#ch0000002?line=8'>9</a>\u001b[0m         seen_btn \u001b[39m=\u001b[39m browser\u001b[39m.\u001b[39mfind_elements(by\u001b[39m=\u001b[39mBy\u001b[39m.\u001b[39mCLASS_NAME, value\u001b[39m=\u001b[39m\u001b[39m\"\u001b[39m\u001b[39mcss-de05nr.e19owgy710\u001b[39m\u001b[39m\"\u001b[39m)[\u001b[39m0\u001b[39m]\n",
      "File \u001b[1;32mc:\\Users\\Jian\\AppData\\Local\\Programs\\Python\\Python39\\lib\\site-packages\\selenium\\webdriver\\remote\\webdriver.py:1251\u001b[0m, in \u001b[0;36mWebDriver.find_element\u001b[1;34m(self, by, value)\u001b[0m\n\u001b[0;32m   <a href='file:///c%3A/Users/Jian/AppData/Local/Programs/Python/Python39/lib/site-packages/selenium/webdriver/remote/webdriver.py?line=1247'>1248</a>\u001b[0m     by \u001b[39m=\u001b[39m By\u001b[39m.\u001b[39mCSS_SELECTOR\n\u001b[0;32m   <a href='file:///c%3A/Users/Jian/AppData/Local/Programs/Python/Python39/lib/site-packages/selenium/webdriver/remote/webdriver.py?line=1248'>1249</a>\u001b[0m     value \u001b[39m=\u001b[39m \u001b[39m'\u001b[39m\u001b[39m[name=\u001b[39m\u001b[39m\"\u001b[39m\u001b[39m%s\u001b[39;00m\u001b[39m\"\u001b[39m\u001b[39m]\u001b[39m\u001b[39m'\u001b[39m \u001b[39m%\u001b[39m value\n\u001b[1;32m-> <a href='file:///c%3A/Users/Jian/AppData/Local/Programs/Python/Python39/lib/site-packages/selenium/webdriver/remote/webdriver.py?line=1250'>1251</a>\u001b[0m \u001b[39mreturn\u001b[39;00m \u001b[39mself\u001b[39;49m\u001b[39m.\u001b[39;49mexecute(Command\u001b[39m.\u001b[39;49mFIND_ELEMENT, {\n\u001b[0;32m   <a href='file:///c%3A/Users/Jian/AppData/Local/Programs/Python/Python39/lib/site-packages/selenium/webdriver/remote/webdriver.py?line=1251'>1252</a>\u001b[0m     \u001b[39m'\u001b[39;49m\u001b[39musing\u001b[39;49m\u001b[39m'\u001b[39;49m: by,\n\u001b[0;32m   <a href='file:///c%3A/Users/Jian/AppData/Local/Programs/Python/Python39/lib/site-packages/selenium/webdriver/remote/webdriver.py?line=1252'>1253</a>\u001b[0m     \u001b[39m'\u001b[39;49m\u001b[39mvalue\u001b[39;49m\u001b[39m'\u001b[39;49m: value})[\u001b[39m'\u001b[39m\u001b[39mvalue\u001b[39m\u001b[39m'\u001b[39m]\n",
      "File \u001b[1;32mc:\\Users\\Jian\\AppData\\Local\\Programs\\Python\\Python39\\lib\\site-packages\\selenium\\webdriver\\remote\\webdriver.py:430\u001b[0m, in \u001b[0;36mWebDriver.execute\u001b[1;34m(self, driver_command, params)\u001b[0m\n\u001b[0;32m    <a href='file:///c%3A/Users/Jian/AppData/Local/Programs/Python/Python39/lib/site-packages/selenium/webdriver/remote/webdriver.py?line=427'>428</a>\u001b[0m response \u001b[39m=\u001b[39m \u001b[39mself\u001b[39m\u001b[39m.\u001b[39mcommand_executor\u001b[39m.\u001b[39mexecute(driver_command, params)\n\u001b[0;32m    <a href='file:///c%3A/Users/Jian/AppData/Local/Programs/Python/Python39/lib/site-packages/selenium/webdriver/remote/webdriver.py?line=428'>429</a>\u001b[0m \u001b[39mif\u001b[39;00m response:\n\u001b[1;32m--> <a href='file:///c%3A/Users/Jian/AppData/Local/Programs/Python/Python39/lib/site-packages/selenium/webdriver/remote/webdriver.py?line=429'>430</a>\u001b[0m     \u001b[39mself\u001b[39;49m\u001b[39m.\u001b[39;49merror_handler\u001b[39m.\u001b[39;49mcheck_response(response)\n\u001b[0;32m    <a href='file:///c%3A/Users/Jian/AppData/Local/Programs/Python/Python39/lib/site-packages/selenium/webdriver/remote/webdriver.py?line=430'>431</a>\u001b[0m     response[\u001b[39m'\u001b[39m\u001b[39mvalue\u001b[39m\u001b[39m'\u001b[39m] \u001b[39m=\u001b[39m \u001b[39mself\u001b[39m\u001b[39m.\u001b[39m_unwrap_value(\n\u001b[0;32m    <a href='file:///c%3A/Users/Jian/AppData/Local/Programs/Python/Python39/lib/site-packages/selenium/webdriver/remote/webdriver.py?line=431'>432</a>\u001b[0m         response\u001b[39m.\u001b[39mget(\u001b[39m'\u001b[39m\u001b[39mvalue\u001b[39m\u001b[39m'\u001b[39m, \u001b[39mNone\u001b[39;00m))\n\u001b[0;32m    <a href='file:///c%3A/Users/Jian/AppData/Local/Programs/Python/Python39/lib/site-packages/selenium/webdriver/remote/webdriver.py?line=432'>433</a>\u001b[0m     \u001b[39mreturn\u001b[39;00m response\n",
      "File \u001b[1;32mc:\\Users\\Jian\\AppData\\Local\\Programs\\Python\\Python39\\lib\\site-packages\\selenium\\webdriver\\remote\\errorhandler.py:247\u001b[0m, in \u001b[0;36mErrorHandler.check_response\u001b[1;34m(self, response)\u001b[0m\n\u001b[0;32m    <a href='file:///c%3A/Users/Jian/AppData/Local/Programs/Python/Python39/lib/site-packages/selenium/webdriver/remote/errorhandler.py?line=244'>245</a>\u001b[0m         alert_text \u001b[39m=\u001b[39m value[\u001b[39m'\u001b[39m\u001b[39malert\u001b[39m\u001b[39m'\u001b[39m]\u001b[39m.\u001b[39mget(\u001b[39m'\u001b[39m\u001b[39mtext\u001b[39m\u001b[39m'\u001b[39m)\n\u001b[0;32m    <a href='file:///c%3A/Users/Jian/AppData/Local/Programs/Python/Python39/lib/site-packages/selenium/webdriver/remote/errorhandler.py?line=245'>246</a>\u001b[0m     \u001b[39mraise\u001b[39;00m exception_class(message, screen, stacktrace, alert_text)  \u001b[39m# type: ignore[call-arg]  # mypy is not smart enough here\u001b[39;00m\n\u001b[1;32m--> <a href='file:///c%3A/Users/Jian/AppData/Local/Programs/Python/Python39/lib/site-packages/selenium/webdriver/remote/errorhandler.py?line=246'>247</a>\u001b[0m \u001b[39mraise\u001b[39;00m exception_class(message, screen, stacktrace)\n",
      "\u001b[1;31mNoSuchElementException\u001b[0m: Message: no such element: Unable to locate element: {\"method\":\"css selector\",\"selector\":\".word\"}\n  (Session info: chrome=101.0.4951.67)\nStacktrace:\nBacktrace:\n\tOrdinal0 [0x0080B8F3+2406643]\n\tOrdinal0 [0x0079AF31+1945393]\n\tOrdinal0 [0x0068C748+837448]\n\tOrdinal0 [0x006B92E0+1020640]\n\tOrdinal0 [0x006B957B+1021307]\n\tOrdinal0 [0x006E6372+1205106]\n\tOrdinal0 [0x006D42C4+1131204]\n\tOrdinal0 [0x006E4682+1197698]\n\tOrdinal0 [0x006D4096+1130646]\n\tOrdinal0 [0x006AE636+976438]\n\tOrdinal0 [0x006AF546+980294]\n\tGetHandleVerifier [0x00A79612+2498066]\n\tGetHandleVerifier [0x00A6C920+2445600]\n\tGetHandleVerifier [0x008A4F2A+579370]\n\tGetHandleVerifier [0x008A3D36+574774]\n\tOrdinal0 [0x007A1C0B+1973259]\n\tOrdinal0 [0x007A6688+1992328]\n\tOrdinal0 [0x007A6775+1992565]\n\tOrdinal0 [0x007AF8D1+2029777]\n\tBaseThreadInitThunk [0x7542FA29+25]\n\tRtlGetAppContainerNamedObjectPath [0x77527A7E+286]\n\tRtlGetAppContainerNamedObjectPath [0x77527A4E+238]\n"
     ]
    }
   ],
   "source": [
    "start_button = browser.find_element(by=By.CLASS_NAME, value=\"css-de05nr.e19owgy710\")\n",
    "start_button.click()\n",
    "time.sleep(1)\n",
    "words = set()\n",
    "playing  = True\n",
    "while playing:\n",
    "    word = browser.find_element(by=By.CLASS_NAME, value=\"word\").text\n",
    "    if word in words:\n",
    "        seen_btn = browser.find_elements(by=By.CLASS_NAME, value=\"css-de05nr.e19owgy710\")[0]\n",
    "        seen_btn.click()\n",
    "    else:\n",
    "        new_btn = browser.find_elements(by=By.CLASS_NAME, value=\"css-de05nr.e19owgy710\")[1]\n",
    "        new_btn.click()\n",
    "        words.add(word)\n",
    "    time.sleep(.05)\n",
    "        \n"
   ]
  }
 ],
 "metadata": {
  "interpreter": {
   "hash": "57dba6ee76e5060b09d57d323dd18f4faf1c14e1eaac643bee8cef7774c6a2a1"
  },
  "kernelspec": {
   "display_name": "Python 3.9.7 64-bit",
   "language": "python",
   "name": "python3"
  },
  "language_info": {
   "codemirror_mode": {
    "name": "ipython",
    "version": 3
   },
   "file_extension": ".py",
   "mimetype": "text/x-python",
   "name": "python",
   "nbconvert_exporter": "python",
   "pygments_lexer": "ipython3",
   "version": "3.9.7"
  },
  "orig_nbformat": 4
 },
 "nbformat": 4,
 "nbformat_minor": 2
}
