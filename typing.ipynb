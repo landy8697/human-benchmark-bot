{
 "cells": [
  {
   "cell_type": "code",
   "execution_count": 1,
   "metadata": {},
   "outputs": [],
   "source": [
    "from selenium import webdriver\n",
    "from selenium.webdriver.common.by import By\n",
    "from selenium.webdriver.common.keys import Keys\n",
    "import time"
   ]
  },
  {
   "cell_type": "code",
   "execution_count": 4,
   "metadata": {},
   "outputs": [
    {
     "name": "stderr",
     "output_type": "stream",
     "text": [
      "C:\\Users\\Jian\\AppData\\Local\\Temp\\ipykernel_1036\\3067467908.py:2: DeprecationWarning: executable_path has been deprecated, please pass in a Service object\n",
      "  browser = webdriver.Chrome(PATH)\n"
     ]
    }
   ],
   "source": [
    "PATH = \"C:\\Andy\\Chromedriver\\chromedriver.exe\"\n",
    "browser = webdriver.Chrome(PATH)\n",
    "browser.get('https://humanbenchmark.com/tests/typing')"
   ]
  },
  {
   "cell_type": "code",
   "execution_count": 3,
   "metadata": {},
   "outputs": [
    {
     "name": "stdout",
     "output_type": "stream",
     "text": [
      "When someone thinks of Australia, they tend to picture hot deserts and dangerous animals. But the country is also home to some of the cutest creatures on the planet. The koala is one of them, a tiny, fluffy bear that looks like it wouldn't hurt a fly. It feeds entirely on leaves, and even though it chooses plants with a lot of proteins, it's still not enough for an active lifestyle. This is why koalas sleep up to twenty hours a day. They just don't have the energy to do anything else!\n"
     ]
    },
    {
     "data": {
      "text/plain": [
       "\"\\nprint(char.text)\\n        if(char.text==' '):\\n            type_box.send_keys(Keys.SPACE)\\n        else:\\n            type_box.send_keys(char.text)\\n\""
      ]
     },
     "execution_count": 3,
     "metadata": {},
     "output_type": "execute_result"
    }
   ],
   "source": [
    "type_box = browser.find_element(by=By.CLASS_NAME, value=\"letters.notranslate\")\n",
    "chars = type_box.find_elements(by=By.CLASS_NAME, value=\"incomplete\")\n",
    "string = ''\n",
    "for char in chars:\n",
    "    if(char.text==''):\n",
    "        string+=' '\n",
    "    else:\n",
    "        string += char.text\n",
    "#type_box.send_keys(string)\n",
    "\n",
    "for char in string:\n",
    "    type_box.send_keys(char)\n",
    "print(string)\n",
    "\n",
    "\n",
    "'''\n",
    "print(char.text)\n",
    "        if(char.text==' '):\n",
    "            type_box.send_keys(Keys.SPACE)\n",
    "        else:\n",
    "            type_box.send_keys(char.text)\n",
    "'''\n"
   ]
  },
  {
   "cell_type": "code",
   "execution_count": 5,
   "metadata": {},
   "outputs": [],
   "source": []
  }
 ],
 "metadata": {
  "interpreter": {
   "hash": "57dba6ee76e5060b09d57d323dd18f4faf1c14e1eaac643bee8cef7774c6a2a1"
  },
  "kernelspec": {
   "display_name": "Python 3.9.7 64-bit",
   "language": "python",
   "name": "python3"
  },
  "language_info": {
   "codemirror_mode": {
    "name": "ipython",
    "version": 3
   },
   "file_extension": ".py",
   "mimetype": "text/x-python",
   "name": "python",
   "nbconvert_exporter": "python",
   "pygments_lexer": "ipython3",
   "version": "3.9.7"
  },
  "orig_nbformat": 4
 },
 "nbformat": 4,
 "nbformat_minor": 2
}
