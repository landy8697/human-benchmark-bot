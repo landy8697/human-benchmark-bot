{
 "cells": [
  {
   "cell_type": "code",
   "execution_count": 36,
   "metadata": {},
   "outputs": [
    {
     "ename": "ModuleNotFoundError",
     "evalue": "No module named 'pyautogui'",
     "output_type": "error",
     "traceback": [
      "\u001b[1;31m---------------------------------------------------------------------------\u001b[0m",
      "\u001b[1;31mModuleNotFoundError\u001b[0m                       Traceback (most recent call last)",
      "\u001b[1;32mc:\\Andy\\Programming Projects\\human-benchmark-bot\\human-benchmark-bot\\monkeytype.ipynb Cell 1'\u001b[0m in \u001b[0;36m<cell line: 6>\u001b[1;34m()\u001b[0m\n\u001b[0;32m      <a href='vscode-notebook-cell:/c%3A/Andy/Programming%20Projects/human-benchmark-bot/human-benchmark-bot/monkeytype.ipynb#ch0000000?line=3'>4</a>\u001b[0m \u001b[39mimport\u001b[39;00m \u001b[39mtime\u001b[39;00m\n\u001b[0;32m      <a href='vscode-notebook-cell:/c%3A/Andy/Programming%20Projects/human-benchmark-bot/human-benchmark-bot/monkeytype.ipynb#ch0000000?line=4'>5</a>\u001b[0m \u001b[39mimport\u001b[39;00m \u001b[39mos\u001b[39;00m\n\u001b[1;32m----> <a href='vscode-notebook-cell:/c%3A/Andy/Programming%20Projects/human-benchmark-bot/human-benchmark-bot/monkeytype.ipynb#ch0000000?line=5'>6</a>\u001b[0m \u001b[39mimport\u001b[39;00m \u001b[39mpyautogui\u001b[39;00m\n",
      "\u001b[1;31mModuleNotFoundError\u001b[0m: No module named 'pyautogui'"
     ]
    }
   ],
   "source": [
    "from selenium import webdriver\n",
    "from selenium.webdriver.common.by import By\n",
    "from bs4 import BeautifulSoup\n",
    "import time\n",
    "import os\n",
    "import pyautogui"
   ]
  },
  {
   "cell_type": "code",
   "execution_count": 3,
   "metadata": {},
   "outputs": [
    {
     "name": "stderr",
     "output_type": "stream",
     "text": [
      "C:\\Users\\Jian\\AppData\\Local\\Temp\\ipykernel_15888\\3341599140.py:2: DeprecationWarning: executable_path has been deprecated, please pass in a Service object\n",
      "  browser = webdriver.Chrome(PATH)\n"
     ]
    }
   ],
   "source": [
    "PATH = \"C:\\Andy\\Chromedriver\\chromedriver.exe\"\n",
    "browser = webdriver.Chrome(PATH)\n",
    "browser.get('https://monkeytype.com/')"
   ]
  },
  {
   "cell_type": "code",
   "execution_count": 34,
   "metadata": {},
   "outputs": [
    {
     "name": "stdout",
     "output_type": "stream",
     "text": [
      "say long nation increase here such last be hold get well form into house against be between over with may consider way will form place year stand out\n"
     ]
    },
    {
     "ename": "ElementNotInteractableException",
     "evalue": "Message: element not interactable\n  (Session info: chrome=101.0.4951.67)\nStacktrace:\nBacktrace:\n\tOrdinal0 [0x00ECB8F3+2406643]\n\tOrdinal0 [0x00E5AF31+1945393]\n\tOrdinal0 [0x00D4C610+837136]\n\tOrdinal0 [0x00D749C3+1001923]\n\tOrdinal0 [0x00D740A5+999589]\n\tOrdinal0 [0x00D9427C+1131132]\n\tOrdinal0 [0x00D6FA64+981604]\n\tOrdinal0 [0x00D94494+1131668]\n\tOrdinal0 [0x00DA4682+1197698]\n\tOrdinal0 [0x00D94096+1130646]\n\tOrdinal0 [0x00D6E636+976438]\n\tOrdinal0 [0x00D6F546+980294]\n\tGetHandleVerifier [0x01139612+2498066]\n\tGetHandleVerifier [0x0112C920+2445600]\n\tGetHandleVerifier [0x00F64F2A+579370]\n\tGetHandleVerifier [0x00F63D36+574774]\n\tOrdinal0 [0x00E61C0B+1973259]\n\tOrdinal0 [0x00E66688+1992328]\n\tOrdinal0 [0x00E66775+1992565]\n\tOrdinal0 [0x00E6F8D1+2029777]\n\tBaseThreadInitThunk [0x760BFA29+25]\n\tRtlGetAppContainerNamedObjectPath [0x77717A7E+286]\n\tRtlGetAppContainerNamedObjectPath [0x77717A4E+238]\n",
     "output_type": "error",
     "traceback": [
      "\u001b[1;31m---------------------------------------------------------------------------\u001b[0m",
      "\u001b[1;31mElementNotInteractableException\u001b[0m           Traceback (most recent call last)",
      "\u001b[1;32mc:\\Andy\\Programming Projects\\human-benchmark-bot\\human-benchmark-bot\\monkeytype.ipynb Cell 3'\u001b[0m in \u001b[0;36m<cell line: 8>\u001b[1;34m()\u001b[0m\n\u001b[0;32m      <a href='vscode-notebook-cell:/c%3A/Andy/Programming%20Projects/human-benchmark-bot/human-benchmark-bot/monkeytype.ipynb#ch0000002?line=5'>6</a>\u001b[0m \u001b[39mprint\u001b[39m(string\u001b[39m.\u001b[39mstrip())\n\u001b[0;32m      <a href='vscode-notebook-cell:/c%3A/Andy/Programming%20Projects/human-benchmark-bot/human-benchmark-bot/monkeytype.ipynb#ch0000002?line=6'>7</a>\u001b[0m first_word\u001b[39m.\u001b[39mclick()\n\u001b[1;32m----> <a href='vscode-notebook-cell:/c%3A/Andy/Programming%20Projects/human-benchmark-bot/human-benchmark-bot/monkeytype.ipynb#ch0000002?line=7'>8</a>\u001b[0m browser\u001b[39m.\u001b[39;49mfind_element(by\u001b[39m=\u001b[39;49mBy\u001b[39m.\u001b[39;49mTAG_NAME, value\u001b[39m=\u001b[39;49m\u001b[39m\"\u001b[39;49m\u001b[39mletter\u001b[39;49m\u001b[39m\"\u001b[39;49m)\u001b[39m.\u001b[39;49msend_keys(\u001b[39m'\u001b[39;49m\u001b[39ma\u001b[39;49m\u001b[39m'\u001b[39;49m)\n",
      "File \u001b[1;32mc:\\Users\\Jian\\AppData\\Local\\Programs\\Python\\Python39\\lib\\site-packages\\selenium\\webdriver\\remote\\webelement.py:570\u001b[0m, in \u001b[0;36mWebElement.send_keys\u001b[1;34m(self, *value)\u001b[0m\n\u001b[0;32m    <a href='file:///c%3A/Users/Jian/AppData/Local/Programs/Python/Python39/lib/site-packages/selenium/webdriver/remote/webelement.py?line=566'>567</a>\u001b[0m             remote_files\u001b[39m.\u001b[39mappend(\u001b[39mself\u001b[39m\u001b[39m.\u001b[39m_upload(file))\n\u001b[0;32m    <a href='file:///c%3A/Users/Jian/AppData/Local/Programs/Python/Python39/lib/site-packages/selenium/webdriver/remote/webelement.py?line=567'>568</a>\u001b[0m         value \u001b[39m=\u001b[39m \u001b[39m'\u001b[39m\u001b[39m\\n\u001b[39;00m\u001b[39m'\u001b[39m\u001b[39m.\u001b[39mjoin(remote_files)\n\u001b[1;32m--> <a href='file:///c%3A/Users/Jian/AppData/Local/Programs/Python/Python39/lib/site-packages/selenium/webdriver/remote/webelement.py?line=569'>570</a>\u001b[0m \u001b[39mself\u001b[39;49m\u001b[39m.\u001b[39;49m_execute(Command\u001b[39m.\u001b[39;49mSEND_KEYS_TO_ELEMENT,\n\u001b[0;32m    <a href='file:///c%3A/Users/Jian/AppData/Local/Programs/Python/Python39/lib/site-packages/selenium/webdriver/remote/webelement.py?line=570'>571</a>\u001b[0m               {\u001b[39m'\u001b[39;49m\u001b[39mtext\u001b[39;49m\u001b[39m'\u001b[39;49m: \u001b[39m\"\u001b[39;49m\u001b[39m\"\u001b[39;49m\u001b[39m.\u001b[39;49mjoin(keys_to_typing(value)),\n\u001b[0;32m    <a href='file:///c%3A/Users/Jian/AppData/Local/Programs/Python/Python39/lib/site-packages/selenium/webdriver/remote/webelement.py?line=571'>572</a>\u001b[0m                \u001b[39m'\u001b[39;49m\u001b[39mvalue\u001b[39;49m\u001b[39m'\u001b[39;49m: keys_to_typing(value)})\n",
      "File \u001b[1;32mc:\\Users\\Jian\\AppData\\Local\\Programs\\Python\\Python39\\lib\\site-packages\\selenium\\webdriver\\remote\\webelement.py:740\u001b[0m, in \u001b[0;36mWebElement._execute\u001b[1;34m(self, command, params)\u001b[0m\n\u001b[0;32m    <a href='file:///c%3A/Users/Jian/AppData/Local/Programs/Python/Python39/lib/site-packages/selenium/webdriver/remote/webelement.py?line=737'>738</a>\u001b[0m     params \u001b[39m=\u001b[39m {}\n\u001b[0;32m    <a href='file:///c%3A/Users/Jian/AppData/Local/Programs/Python/Python39/lib/site-packages/selenium/webdriver/remote/webelement.py?line=738'>739</a>\u001b[0m params[\u001b[39m'\u001b[39m\u001b[39mid\u001b[39m\u001b[39m'\u001b[39m] \u001b[39m=\u001b[39m \u001b[39mself\u001b[39m\u001b[39m.\u001b[39m_id\n\u001b[1;32m--> <a href='file:///c%3A/Users/Jian/AppData/Local/Programs/Python/Python39/lib/site-packages/selenium/webdriver/remote/webelement.py?line=739'>740</a>\u001b[0m \u001b[39mreturn\u001b[39;00m \u001b[39mself\u001b[39;49m\u001b[39m.\u001b[39;49m_parent\u001b[39m.\u001b[39;49mexecute(command, params)\n",
      "File \u001b[1;32mc:\\Users\\Jian\\AppData\\Local\\Programs\\Python\\Python39\\lib\\site-packages\\selenium\\webdriver\\remote\\webdriver.py:430\u001b[0m, in \u001b[0;36mWebDriver.execute\u001b[1;34m(self, driver_command, params)\u001b[0m\n\u001b[0;32m    <a href='file:///c%3A/Users/Jian/AppData/Local/Programs/Python/Python39/lib/site-packages/selenium/webdriver/remote/webdriver.py?line=427'>428</a>\u001b[0m response \u001b[39m=\u001b[39m \u001b[39mself\u001b[39m\u001b[39m.\u001b[39mcommand_executor\u001b[39m.\u001b[39mexecute(driver_command, params)\n\u001b[0;32m    <a href='file:///c%3A/Users/Jian/AppData/Local/Programs/Python/Python39/lib/site-packages/selenium/webdriver/remote/webdriver.py?line=428'>429</a>\u001b[0m \u001b[39mif\u001b[39;00m response:\n\u001b[1;32m--> <a href='file:///c%3A/Users/Jian/AppData/Local/Programs/Python/Python39/lib/site-packages/selenium/webdriver/remote/webdriver.py?line=429'>430</a>\u001b[0m     \u001b[39mself\u001b[39;49m\u001b[39m.\u001b[39;49merror_handler\u001b[39m.\u001b[39;49mcheck_response(response)\n\u001b[0;32m    <a href='file:///c%3A/Users/Jian/AppData/Local/Programs/Python/Python39/lib/site-packages/selenium/webdriver/remote/webdriver.py?line=430'>431</a>\u001b[0m     response[\u001b[39m'\u001b[39m\u001b[39mvalue\u001b[39m\u001b[39m'\u001b[39m] \u001b[39m=\u001b[39m \u001b[39mself\u001b[39m\u001b[39m.\u001b[39m_unwrap_value(\n\u001b[0;32m    <a href='file:///c%3A/Users/Jian/AppData/Local/Programs/Python/Python39/lib/site-packages/selenium/webdriver/remote/webdriver.py?line=431'>432</a>\u001b[0m         response\u001b[39m.\u001b[39mget(\u001b[39m'\u001b[39m\u001b[39mvalue\u001b[39m\u001b[39m'\u001b[39m, \u001b[39mNone\u001b[39;00m))\n\u001b[0;32m    <a href='file:///c%3A/Users/Jian/AppData/Local/Programs/Python/Python39/lib/site-packages/selenium/webdriver/remote/webdriver.py?line=432'>433</a>\u001b[0m     \u001b[39mreturn\u001b[39;00m response\n",
      "File \u001b[1;32mc:\\Users\\Jian\\AppData\\Local\\Programs\\Python\\Python39\\lib\\site-packages\\selenium\\webdriver\\remote\\errorhandler.py:247\u001b[0m, in \u001b[0;36mErrorHandler.check_response\u001b[1;34m(self, response)\u001b[0m\n\u001b[0;32m    <a href='file:///c%3A/Users/Jian/AppData/Local/Programs/Python/Python39/lib/site-packages/selenium/webdriver/remote/errorhandler.py?line=244'>245</a>\u001b[0m         alert_text \u001b[39m=\u001b[39m value[\u001b[39m'\u001b[39m\u001b[39malert\u001b[39m\u001b[39m'\u001b[39m]\u001b[39m.\u001b[39mget(\u001b[39m'\u001b[39m\u001b[39mtext\u001b[39m\u001b[39m'\u001b[39m)\n\u001b[0;32m    <a href='file:///c%3A/Users/Jian/AppData/Local/Programs/Python/Python39/lib/site-packages/selenium/webdriver/remote/errorhandler.py?line=245'>246</a>\u001b[0m     \u001b[39mraise\u001b[39;00m exception_class(message, screen, stacktrace, alert_text)  \u001b[39m# type: ignore[call-arg]  # mypy is not smart enough here\u001b[39;00m\n\u001b[1;32m--> <a href='file:///c%3A/Users/Jian/AppData/Local/Programs/Python/Python39/lib/site-packages/selenium/webdriver/remote/errorhandler.py?line=246'>247</a>\u001b[0m \u001b[39mraise\u001b[39;00m exception_class(message, screen, stacktrace)\n",
      "\u001b[1;31mElementNotInteractableException\u001b[0m: Message: element not interactable\n  (Session info: chrome=101.0.4951.67)\nStacktrace:\nBacktrace:\n\tOrdinal0 [0x00ECB8F3+2406643]\n\tOrdinal0 [0x00E5AF31+1945393]\n\tOrdinal0 [0x00D4C610+837136]\n\tOrdinal0 [0x00D749C3+1001923]\n\tOrdinal0 [0x00D740A5+999589]\n\tOrdinal0 [0x00D9427C+1131132]\n\tOrdinal0 [0x00D6FA64+981604]\n\tOrdinal0 [0x00D94494+1131668]\n\tOrdinal0 [0x00DA4682+1197698]\n\tOrdinal0 [0x00D94096+1130646]\n\tOrdinal0 [0x00D6E636+976438]\n\tOrdinal0 [0x00D6F546+980294]\n\tGetHandleVerifier [0x01139612+2498066]\n\tGetHandleVerifier [0x0112C920+2445600]\n\tGetHandleVerifier [0x00F64F2A+579370]\n\tGetHandleVerifier [0x00F63D36+574774]\n\tOrdinal0 [0x00E61C0B+1973259]\n\tOrdinal0 [0x00E66688+1992328]\n\tOrdinal0 [0x00E66775+1992565]\n\tOrdinal0 [0x00E6F8D1+2029777]\n\tBaseThreadInitThunk [0x760BFA29+25]\n\tRtlGetAppContainerNamedObjectPath [0x77717A7E+286]\n\tRtlGetAppContainerNamedObjectPath [0x77717A4E+238]\n"
     ]
    }
   ],
   "source": [
    "type_box = browser.find_element(by=By.ID, value=\"words\")\n",
    "first_word = browser.find_element(by=By.CLASS_NAME, value=\"word.active\")\n",
    "string = \"\"\n",
    "for word in browser.find_elements(by=By.CLASS_NAME, value=\"word\"):\n",
    "    string += word.text+\" \"\n",
    "print(string.strip())\n",
    "first_word.click()\n",
    "browser.find_element(by=By.TAG_NAME, value=\"letter\").send_keys('a')\n"
   ]
  }
 ],
 "metadata": {
  "interpreter": {
   "hash": "57dba6ee76e5060b09d57d323dd18f4faf1c14e1eaac643bee8cef7774c6a2a1"
  },
  "kernelspec": {
   "display_name": "Python 3.9.7 64-bit",
   "language": "python",
   "name": "python3"
  },
  "language_info": {
   "codemirror_mode": {
    "name": "ipython",
    "version": 3
   },
   "file_extension": ".py",
   "mimetype": "text/x-python",
   "name": "python",
   "nbconvert_exporter": "python",
   "pygments_lexer": "ipython3",
   "version": "3.9.7"
  },
  "orig_nbformat": 4
 },
 "nbformat": 4,
 "nbformat_minor": 2
}
