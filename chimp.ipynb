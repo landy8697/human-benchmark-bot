{
 "cells": [
  {
   "cell_type": "code",
   "execution_count": 1,
   "metadata": {},
   "outputs": [],
   "source": [
    "from selenium import webdriver\n",
    "from selenium.webdriver.common.by import By\n",
    "import time"
   ]
  },
  {
   "cell_type": "code",
   "execution_count": 2,
   "metadata": {},
   "outputs": [
    {
     "name": "stderr",
     "output_type": "stream",
     "text": [
      "C:\\Users\\Jian\\AppData\\Local\\Temp\\ipykernel_18736\\1276075214.py:2: DeprecationWarning: executable_path has been deprecated, please pass in a Service object\n",
      "  browser = webdriver.Chrome(PATH)\n"
     ]
    }
   ],
   "source": [
    "PATH = \"C:\\Andy\\Chromedriver\\chromedriver.exe\"\n",
    "browser = webdriver.Chrome(PATH)\n",
    "browser.get('https://humanbenchmark.com/tests/chimp')"
   ]
  },
  {
   "cell_type": "code",
   "execution_count": 15,
   "metadata": {},
   "outputs": [
    {
     "name": "stdout",
     "output_type": "stream",
     "text": [
      "1\n",
      "2\n",
      "3\n",
      "4\n",
      "5\n",
      "6\n",
      "7\n",
      "8\n",
      "9\n",
      "10\n",
      "1\n",
      ".\n",
      ".\n"
     ]
    },
    {
     "ename": "KeyboardInterrupt",
     "evalue": "",
     "output_type": "error",
     "traceback": [
      "\u001b[1;31m---------------------------------------------------------------------------\u001b[0m",
      "\u001b[1;31mKeyboardInterrupt\u001b[0m                         Traceback (most recent call last)",
      "\u001b[1;32mc:\\Andy\\Programming Projects\\human-benchmark-bot\\human-benchmark-bot\\chimp.ipynb Cell 3'\u001b[0m in \u001b[0;36m<cell line: 11>\u001b[1;34m()\u001b[0m\n\u001b[0;32m     <a href='vscode-notebook-cell:/c%3A/Andy/Programming%20Projects/human-benchmark-bot/human-benchmark-bot/chimp.ipynb#ch0000003?line=11'>12</a>\u001b[0m     \u001b[39mprint\u001b[39m(square\u001b[39m.\u001b[39mtext)\n\u001b[0;32m     <a href='vscode-notebook-cell:/c%3A/Andy/Programming%20Projects/human-benchmark-bot/human-benchmark-bot/chimp.ipynb#ch0000003?line=12'>13</a>\u001b[0m     square\u001b[39m.\u001b[39mclick()\n\u001b[1;32m---> <a href='vscode-notebook-cell:/c%3A/Andy/Programming%20Projects/human-benchmark-bot/human-benchmark-bot/chimp.ipynb#ch0000003?line=13'>14</a>\u001b[0m     time\u001b[39m.\u001b[39;49msleep(\u001b[39m5\u001b[39;49m)\n\u001b[0;32m     <a href='vscode-notebook-cell:/c%3A/Andy/Programming%20Projects/human-benchmark-bot/human-benchmark-bot/chimp.ipynb#ch0000003?line=14'>15</a>\u001b[0m time\u001b[39m.\u001b[39msleep(\u001b[39m.5\u001b[39m)\n\u001b[0;32m     <a href='vscode-notebook-cell:/c%3A/Andy/Programming%20Projects/human-benchmark-bot/human-benchmark-bot/chimp.ipynb#ch0000003?line=15'>16</a>\u001b[0m continue_button \u001b[39m=\u001b[39m browser\u001b[39m.\u001b[39mfind_element(by\u001b[39m=\u001b[39mBy\u001b[39m.\u001b[39mCLASS_NAME, value\u001b[39m=\u001b[39m\u001b[39m\"\u001b[39m\u001b[39mcss-de05nr.e19owgy710\u001b[39m\u001b[39m\"\u001b[39m)\n",
      "\u001b[1;31mKeyboardInterrupt\u001b[0m: "
     ]
    }
   ],
   "source": [
    "def getNumber(element):\n",
    "    #print(element.text)\n",
    "    return int(element.text)\n",
    "\n",
    "squares = browser.find_elements(by=By.CLASS_NAME, value=\"css-19b5rdt\")\n",
    "squares.sort(key=getNumber)\n",
    "\n",
    "for square in squares:\n",
    "    print(square.text)\n",
    "\n",
    "for square in squares:\n",
    "    print(square.text)\n",
    "    square.click()\n",
    "    time.sleep(2)\n",
    "time.sleep(.5)\n",
    "continue_button = browser.find_element(by=By.CLASS_NAME, value=\"css-de05nr.e19owgy710\")\n",
    "continue_button.click()\n",
    "time.sleep(.5)"
   ]
  },
  {
   "cell_type": "code",
   "execution_count": 12,
   "metadata": {},
   "outputs": [
    {
     "ename": "KeyboardInterrupt",
     "evalue": "",
     "output_type": "error",
     "traceback": [
      "\u001b[1;31m---------------------------------------------------------------------------\u001b[0m",
      "\u001b[1;31mKeyboardInterrupt\u001b[0m                         Traceback (most recent call last)",
      "\u001b[1;32mc:\\Andy\\Programming Projects\\human-benchmark-bot\\human-benchmark-bot\\chimp.ipynb Cell 4'\u001b[0m in \u001b[0;36m<cell line: 9>\u001b[1;34m()\u001b[0m\n\u001b[0;32m     <a href='vscode-notebook-cell:/c%3A/Andy/Programming%20Projects/human-benchmark-bot/human-benchmark-bot/chimp.ipynb#ch0000002?line=12'>13</a>\u001b[0m     square\u001b[39m.\u001b[39mclick()\n\u001b[0;32m     <a href='vscode-notebook-cell:/c%3A/Andy/Programming%20Projects/human-benchmark-bot/human-benchmark-bot/chimp.ipynb#ch0000002?line=13'>14</a>\u001b[0m     time\u001b[39m.\u001b[39msleep(\u001b[39m.05\u001b[39m)\n\u001b[1;32m---> <a href='vscode-notebook-cell:/c%3A/Andy/Programming%20Projects/human-benchmark-bot/human-benchmark-bot/chimp.ipynb#ch0000002?line=14'>15</a>\u001b[0m time\u001b[39m.\u001b[39;49msleep(\u001b[39m.5\u001b[39;49m)\n\u001b[0;32m     <a href='vscode-notebook-cell:/c%3A/Andy/Programming%20Projects/human-benchmark-bot/human-benchmark-bot/chimp.ipynb#ch0000002?line=15'>16</a>\u001b[0m continue_button \u001b[39m=\u001b[39m browser\u001b[39m.\u001b[39mfind_element(by\u001b[39m=\u001b[39mBy\u001b[39m.\u001b[39mCLASS_NAME, value\u001b[39m=\u001b[39m\u001b[39m\"\u001b[39m\u001b[39mcss-de05nr.e19owgy710\u001b[39m\u001b[39m\"\u001b[39m)\n\u001b[0;32m     <a href='vscode-notebook-cell:/c%3A/Andy/Programming%20Projects/human-benchmark-bot/human-benchmark-bot/chimp.ipynb#ch0000002?line=16'>17</a>\u001b[0m continue_button\u001b[39m.\u001b[39mclick()\n",
      "\u001b[1;31mKeyboardInterrupt\u001b[0m: "
     ]
    }
   ],
   "source": [
    "start_button = browser.find_element(by=By.CLASS_NAME, value=\"css-de05nr.e19owgy710\")\n",
    "start_button.click()\n",
    "time.sleep(1)\n",
    "playing = True\n",
    "\n",
    "def getNumber(element):\n",
    "    return int(element.text)\n",
    "\n",
    "while playing:\n",
    "    squares = browser.find_elements(by=By.CLASS_NAME, value=\"css-19b5rdt\")\n",
    "    squares.sort(key=getNumber)\n",
    "    for square in squares:\n",
    "        square.click()\n",
    "        time.sleep(.05)\n",
    "    time.sleep(.5)\n",
    "    continue_button = browser.find_element(by=By.CLASS_NAME, value=\"css-de05nr.e19owgy710\")\n",
    "    continue_button.click()\n",
    "    time.sleep(.5)\n",
    "    "
   ]
  }
 ],
 "metadata": {
  "interpreter": {
   "hash": "57dba6ee76e5060b09d57d323dd18f4faf1c14e1eaac643bee8cef7774c6a2a1"
  },
  "kernelspec": {
   "display_name": "Python 3.9.7 64-bit",
   "language": "python",
   "name": "python3"
  },
  "language_info": {
   "codemirror_mode": {
    "name": "ipython",
    "version": 3
   },
   "file_extension": ".py",
   "mimetype": "text/x-python",
   "name": "python",
   "nbconvert_exporter": "python",
   "pygments_lexer": "ipython3",
   "version": "3.9.7"
  },
  "orig_nbformat": 4
 },
 "nbformat": 4,
 "nbformat_minor": 2
}
