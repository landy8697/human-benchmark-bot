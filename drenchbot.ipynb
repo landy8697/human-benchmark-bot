{
 "cells": [
  {
   "cell_type": "code",
   "execution_count": 129,
   "metadata": {},
   "outputs": [],
   "source": [
    "from selenium import webdriver\n",
    "\n",
    "from PIL import Image\n",
    "import random\n",
    "import time"
   ]
  },
  {
   "cell_type": "code",
   "execution_count": 130,
   "metadata": {},
   "outputs": [
    {
     "name": "stderr",
     "output_type": "stream",
     "text": [
      "C:\\Users\\Jian\\AppData\\Local\\Temp\\ipykernel_20348\\3696971621.py:2: DeprecationWarning: executable_path has been deprecated, please pass in a Service object\n",
      "  browser = webdriver.Chrome(PATH)\n"
     ]
    }
   ],
   "source": [
    "PATH = \"C:\\Andy\\Chromedriver\\chromedriver.exe\"\n",
    "browser = webdriver.Chrome(PATH)\n",
    "browser.get('http://flashbynight.com/drench/')\n"
   ]
  },
  {
   "cell_type": "code",
   "execution_count": 131,
   "metadata": {},
   "outputs": [],
   "source": [
    "def get_moves(browser):\n",
    "    webElement = browser.find_element_by_class_name(\"moveNum\");\n",
    "    return int(webElement.text);\n",
    "\n",
    "def click_button(browser, color):\n",
    "    browser.find_element_by_id(color).click();\n",
    "\n",
    "def get_grid(browser):\n",
    "    webElement = browser.find_element_by_id(\"canvasholder\")\n",
    "    webElement.screenshot(\"div.png\");"
   ]
  },
  {
   "cell_type": "code",
   "execution_count": 132,
   "metadata": {},
   "outputs": [],
   "source": [
    "RED_COLOR = (217, 36, 36 ,255)\n",
    "LIGHT_COLOR = (220, 255, 207, 255)\n",
    "PURPLE_COLOR = (113, 1, 238, 255)\n",
    "PINK_COLOR = (234, 153, 252, 255)\n",
    "GREEN_COLOR = (139, 208, 49, 255)\n",
    "YELLOW_COLOR = (238, 210, 61, 255)\n",
    "\n",
    "GREEN = \"b1\"\n",
    "PINK = \"b2\"\n",
    "PURPLE = \"b3\"\n",
    "LIGHT = \"b4\"\n",
    "RED = \"b5\"\n",
    "YELLOW = \"b6\""
   ]
  },
  {
   "cell_type": "code",
   "execution_count": 133,
   "metadata": {},
   "outputs": [],
   "source": [
    "def print_grid(grid):\n",
    "    for i in range(14):\n",
    "        for j in range(14):\n",
    "            print(\"%s \" % grid[j][i], end=\"\")\n",
    "        print(\" \");\n",
    "\n",
    "def process_grid():\n",
    "    im = Image.open('div.png')\n",
    "    pix = im.load()\n",
    "    cell_size = im.size[1]/14\n",
    "    start_point = 1 + cell_size//2;\n",
    "    grid = [[None for x in range(14)] for y in range(14)]\n",
    "    for i in range(14):\n",
    "        for j in range(14):\n",
    "            \n",
    "            across = start_point + j * cell_size\n",
    "            down = start_point + i * cell_size\n",
    "\n",
    "            color = pix[across,down]\n",
    "            #$if(i==0 and j==0):\n",
    "            #print(color)\n",
    "            if(i==8 and j==2):\n",
    "                print(color)\n",
    "            if color == RED_COLOR:\n",
    "                grid[j][i] = RED\n",
    "            elif color == LIGHT_COLOR:\n",
    "                grid[j][i] = LIGHT\n",
    "            elif color == PURPLE_COLOR:\n",
    "                grid[j][i] = PURPLE\n",
    "            elif color == PINK_COLOR:\n",
    "                grid[j][i] = PINK\n",
    "            elif color == GREEN_COLOR:\n",
    "                grid[j][i] = GREEN\n",
    "            elif color == YELLOW_COLOR:\n",
    "                grid[j][i] = YELLOW\n",
    "            else:\n",
    "                print(\"NO MATCH\")\n",
    "                raise Exception(\"Failed to match\")\n",
    "            pix[across,down]=(0,0,0,255)\n",
    "    return grid, im"
   ]
  },
  {
   "cell_type": "code",
   "execution_count": 134,
   "metadata": {},
   "outputs": [
    {
     "name": "stderr",
     "output_type": "stream",
     "text": [
      "C:\\Users\\Jian\\AppData\\Local\\Temp\\ipykernel_20348\\938028381.py:9: DeprecationWarning: find_element_by_* commands are deprecated. Please use find_element() instead\n",
      "  webElement = browser.find_element_by_id(\"canvasholder\")\n"
     ]
    },
    {
     "name": "stdout",
     "output_type": "stream",
     "text": [
      "(238, 210, 61, 255)\n",
      "b2 b3 b1 b5 b4 b2 b4 b2 b3 b1 b6 b2 b4 b5  \n",
      "b1 b1 b4 b1 b3 b2 b3 b5 b2 b3 b6 b4 b6 b6  \n",
      "b4 b3 b1 b6 b4 b2 b6 b5 b2 b6 b5 b6 b6 b1  \n",
      "b2 b2 b6 b1 b6 b5 b2 b3 b4 b2 b4 b1 b2 b2  \n",
      "b1 b5 b1 b4 b1 b2 b1 b5 b5 b2 b6 b4 b4 b1  \n",
      "b6 b2 b4 b2 b3 b2 b6 b1 b1 b2 b6 b2 b4 b6  \n",
      "b1 b6 b4 b2 b6 b3 b3 b4 b4 b6 b6 b3 b4 b4  \n",
      "b2 b5 b5 b1 b2 b6 b6 b5 b2 b1 b1 b3 b6 b1  \n",
      "b3 b2 b6 b2 b3 b6 b6 b5 b2 b4 b3 b3 b6 b5  \n",
      "b6 b6 b3 b2 b1 b3 b1 b2 b5 b5 b1 b1 b6 b3  \n",
      "b3 b1 b4 b5 b4 b4 b4 b2 b2 b2 b2 b6 b1 b4  \n",
      "b6 b1 b5 b6 b4 b6 b5 b6 b1 b2 b5 b4 b1 b5  \n",
      "b2 b1 b2 b2 b3 b4 b1 b1 b6 b1 b2 b4 b5 b1  \n",
      "b4 b5 b2 b2 b6 b6 b2 b6 b5 b4 b2 b1 b2 b4  \n"
     ]
    }
   ],
   "source": [
    "get_grid(browser)\n",
    "grid, im = process_grid()\n",
    "#print(grid[0][0])\n",
    "print_grid(grid);"
   ]
  },
  {
   "cell_type": "code",
   "execution_count": 135,
   "metadata": {},
   "outputs": [
    {
     "data": {
      "image/png": "[encoded data removed]",
      "text/plain": [
       "<PIL.PngImagePlugin.PngImageFile image mode=RGBA size=378x378 at 0x23DF68D7F10>"
      ]
     },
     "execution_count": 135,
     "metadata": {},
     "output_type": "execute_result"
    }
   ],
   "source": [
    "im"
   ]
  },
  {
   "cell_type": "code",
   "execution_count": 136,
   "metadata": {},
   "outputs": [],
   "source": [
    "def str_it(x, y):\n",
    "    return \"(%s,%s)\" % (x, y)\n",
    "\n",
    "def calc_v1(grid):\n",
    "    seen = [str_it(0, 0)]\n",
    "    primary = grid[0][0]\n",
    "\n",
    "    results = {\n",
    "        \"b1\": 0,\n",
    "        \"b2\": 0,\n",
    "        \"b3\": 0,\n",
    "        \"b4\": 0,\n",
    "        \"b5\": 0, \n",
    "        \"b6\": 0\n",
    "    }\n",
    "\n",
    "    view_coord(grid, primary, seen, 0, 0, results)\n",
    "    return results\n",
    "\n",
    "def view_coord(grid, primary, seen, x, y, results):\n",
    "    if x < 13:\n",
    "        process_neighbor(grid, primary, seen, x+1, y, results)\n",
    "    if x > 0:\n",
    "        process_neighbor(grid, primary, seen, x-1, y, results)\n",
    "    if y < 13:\n",
    "        process_neighbor(grid, primary, seen, x, y+1, results)\n",
    "    if y > 0:\n",
    "        process_neighbor(grid, primary, seen, x, y-1, results)\n",
    "\n",
    "def is_enclave(grid, primary, x, y):\n",
    "    if(grid[x][y]==primary):\n",
    "        return False\n",
    "    if x < 13 and grid[x+1][y]!=primary:\n",
    "        return False\n",
    "    if x > 0 and grid[x-1][y]!=primary:\n",
    "        return False\n",
    "    if y < 13 and grid[x][y+1]!=primary:\n",
    "        return False\n",
    "    if y > 0 and grid[x][y-1]!=primary:\n",
    "        return False\n",
    "    return True\n",
    "    \n",
    "def process_neighbor(grid, primary, seen, x, y, results):\n",
    "    target = str_it(x,y)\n",
    "    if target not in seen:\n",
    "        seen.append(target)\n",
    "        if grid[y][x]==primary:\n",
    "            view_coord(grid, primary, seen, x, y, results)\n",
    "        else:\n",
    "            if not is_enclave(grid, primary, x, y):\n",
    "                results[grid[y][x]] += 1\n",
    "            else:\n",
    "                print(x, y)"
   ]
  },
  {
   "cell_type": "code",
   "execution_count": 137,
   "metadata": {},
   "outputs": [
    {
     "data": {
      "text/plain": [
       "{'b1': 1, 'b2': 0, 'b3': 1, 'b4': 0, 'b5': 0, 'b6': 0}"
      ]
     },
     "execution_count": 137,
     "metadata": {},
     "output_type": "execute_result"
    }
   ],
   "source": [
    "calc_v1(grid)"
   ]
  },
  {
   "cell_type": "code",
   "execution_count": 138,
   "metadata": {},
   "outputs": [
    {
     "name": "stderr",
     "output_type": "stream",
     "text": [
      "C:\\Users\\Jian\\AppData\\Local\\Temp\\ipykernel_20348\\938028381.py:2: DeprecationWarning: find_element_by_class_name is deprecated. Please use find_element(by=By.CLASS_NAME, value=name) instead\n",
      "  webElement = browser.find_element_by_class_name(\"moveNum\");\n",
      "C:\\Users\\Jian\\AppData\\Local\\Temp\\ipykernel_20348\\938028381.py:9: DeprecationWarning: find_element_by_* commands are deprecated. Please use find_element() instead\n",
      "  webElement = browser.find_element_by_id(\"canvasholder\")\n"
     ]
    },
    {
     "name": "stdout",
     "output_type": "stream",
     "text": [
      "(238, 210, 61, 255)\n",
      "['b1', 'b3']\n"
     ]
    },
    {
     "name": "stderr",
     "output_type": "stream",
     "text": [
      "C:\\Users\\Jian\\AppData\\Local\\Temp\\ipykernel_20348\\938028381.py:6: DeprecationWarning: find_element_by_* commands are deprecated. Please use find_element() instead\n",
      "  browser.find_element_by_id(color).click();\n"
     ]
    },
    {
     "name": "stdout",
     "output_type": "stream",
     "text": [
      "(238, 210, 61, 255)\n",
      "['b1']\n",
      "(238, 210, 61, 255)\n",
      "2 1\n",
      "['b4']\n",
      "(238, 210, 61, 255)\n",
      "['b1']\n",
      "(238, 210, 61, 255)\n",
      "['b3', 'b6']\n",
      "(238, 210, 61, 255)\n",
      "['b2']\n",
      "(238, 210, 61, 255)\n",
      "['b4', 'b5', 'b6']\n",
      "(238, 210, 61, 255)\n",
      "4 0\n",
      "['b6']\n",
      "(238, 210, 61, 255)\n",
      "4 0\n",
      "4 2\n",
      "0 4\n",
      "['b2']\n",
      "(238, 210, 61, 255)\n",
      "4 0\n",
      "4 2\n",
      "['b3', 'b4']\n",
      "(238, 210, 61, 255)\n",
      "4 0\n",
      "4 2\n",
      "['b4', 'b6']\n",
      "(238, 210, 61, 255)\n",
      "3 3\n",
      "4 4\n",
      "['b6']\n",
      "(238, 210, 61, 255)\n",
      "['b1']\n",
      "(238, 210, 61, 255)\n",
      "['b2']\n",
      "(238, 210, 61, 255)\n",
      "['b5']\n",
      "(238, 210, 61, 255)\n",
      "['b3']\n",
      "(238, 210, 61, 255)\n",
      "['b4']\n",
      "(238, 210, 61, 255)\n",
      "['b1']\n",
      "(238, 210, 61, 255)\n",
      "['b6']\n",
      "(238, 210, 61, 255)\n",
      "['b2']\n",
      "(234, 153, 252, 255)\n",
      "['b5']\n",
      "(217, 36, 36, 255)\n",
      "11 1\n",
      "9 13\n",
      "['b4']\n",
      "(220, 255, 207, 255)\n",
      "['b1']\n",
      "(139, 208, 49, 255)\n",
      "['b3', 'b6']\n",
      "(238, 210, 61, 255)\n",
      "['b3']\n",
      "(113, 1, 238, 255)\n",
      "['b2']\n",
      "NO MATCH\n",
      "Stopped due to an error ? round over?\n"
     ]
    }
   ],
   "source": [
    "playing = True\n",
    "while playing:\n",
    "    if get_moves(browser) > 0:\n",
    "        get_grid(browser)\n",
    "\n",
    "        try:\n",
    "            get_grid(browser)\n",
    "            grid, im = process_grid()\n",
    "            #print_grid(grid)\n",
    "\n",
    "            options = calc_v1(grid)\n",
    "            found_max = 0\n",
    "            maxes = []\n",
    "            for key, val in options.items():\n",
    "                if val > found_max:\n",
    "                    found_max = val\n",
    "                    maxes = [key]\n",
    "                elif val == found_max:\n",
    "                    maxes.append(key)\n",
    "\n",
    "            if found_max == 0:\n",
    "                print(\"No options!\")\n",
    "            print(maxes)\n",
    "            #print(options)\n",
    "            choice = random.choice(maxes)\n",
    "            click_button(browser, choice)\n",
    "        except Exception:\n",
    "            print(\"Stopped due to an error ? round over?\")\n",
    "            playing = False\n",
    "    else:\n",
    "        print(\"Stopped - out of moves!\")\n",
    "        playing = False\n",
    "\n",
    "    time.sleep(.5)"
   ]
  },
  {
   "cell_type": "code",
   "execution_count": 139,
   "metadata": {},
   "outputs": [
    {
     "data": {
      "image/png": "[encoded data removed]",
      "text/plain": [
       "<PIL.PngImagePlugin.PngImageFile image mode=RGBA size=378x378 at 0x23DF49ACC40>"
      ]
     },
     "execution_count": 139,
     "metadata": {},
     "output_type": "execute_result"
    }
   ],
   "source": [
    "im"
   ]
  }
 ],
 "metadata": {
  "interpreter": {
   "hash": "57dba6ee76e5060b09d57d323dd18f4faf1c14e1eaac643bee8cef7774c6a2a1"
  },
  "kernelspec": {
   "display_name": "Python 3.9.7 64-bit",
   "language": "python",
   "name": "python3"
  },
  "language_info": {
   "codemirror_mode": {
    "name": "ipython",
    "version": 3
   },
   "file_extension": ".py",
   "mimetype": "text/x-python",
   "name": "python",
   "nbconvert_exporter": "python",
   "pygments_lexer": "ipython3",
   "version": "3.9.7"
  },
  "orig_nbformat": 4
 },
 "nbformat": 4,
 "nbformat_minor": 2
}
