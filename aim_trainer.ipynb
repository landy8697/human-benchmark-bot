{
 "cells": [
  {
   "cell_type": "code",
   "execution_count": 1,
   "metadata": {},
   "outputs": [],
   "source": [
    "from selenium import webdriver\n",
    "from selenium.webdriver.common.by import By\n",
    "import time"
   ]
  },
  {
   "cell_type": "code",
   "execution_count": 7,
   "metadata": {},
   "outputs": [
    {
     "name": "stderr",
     "output_type": "stream",
     "text": [
      "C:\\Users\\Jian\\AppData\\Local\\Temp\\ipykernel_17148\\877676936.py:2: DeprecationWarning: executable_path has been deprecated, please pass in a Service object\n",
      "  browser = webdriver.Chrome(PATH)\n"
     ]
    }
   ],
   "source": [
    "PATH = \"C:\\Andy\\Chromedriver\\chromedriver.exe\"\n",
    "browser = webdriver.Chrome(PATH)\n",
    "browser.get('https://humanbenchmark.com/tests/aim')"
   ]
  },
  {
   "cell_type": "code",
   "execution_count": 19,
   "metadata": {},
   "outputs": [
    {
     "ename": "ElementClickInterceptedException",
     "evalue": "Message: element click intercepted: Element <div class=\"css-ad1j3y e6yfngs2\"></div> is not clickable at point (505, 318). Other element would receive the click: <div class=\"css-17nnhwz e6yfngs4\" style=\"width: 100px; height: 2px;\"></div>\n  (Session info: chrome=101.0.4951.67)\nStacktrace:\nBacktrace:\n\tOrdinal0 [0x0080B8F3+2406643]\n\tOrdinal0 [0x0079AF31+1945393]\n\tOrdinal0 [0x0068C748+837448]\n\tOrdinal0 [0x006BFA1B+1047067]\n\tOrdinal0 [0x006BD9F8+1038840]\n\tOrdinal0 [0x006BB6DB+1029851]\n\tOrdinal0 [0x006BA439+1025081]\n\tOrdinal0 [0x006B0083+983171]\n\tOrdinal0 [0x006D427C+1131132]\n\tOrdinal0 [0x006AFA64+981604]\n\tOrdinal0 [0x006D4494+1131668]\n\tOrdinal0 [0x006E4682+1197698]\n\tOrdinal0 [0x006D4096+1130646]\n\tOrdinal0 [0x006AE636+976438]\n\tOrdinal0 [0x006AF546+980294]\n\tGetHandleVerifier [0x00A79612+2498066]\n\tGetHandleVerifier [0x00A6C920+2445600]\n\tGetHandleVerifier [0x008A4F2A+579370]\n\tGetHandleVerifier [0x008A3D36+574774]\n\tOrdinal0 [0x007A1C0B+1973259]\n\tOrdinal0 [0x007A6688+1992328]\n\tOrdinal0 [0x007A6775+1992565]\n\tOrdinal0 [0x007AF8D1+2029777]\n\tBaseThreadInitThunk [0x7542FA29+25]\n\tRtlGetAppContainerNamedObjectPath [0x77527A7E+286]\n\tRtlGetAppContainerNamedObjectPath [0x77527A4E+238]\n",
     "output_type": "error",
     "traceback": [
      "\u001b[1;31m---------------------------------------------------------------------------\u001b[0m",
      "\u001b[1;31mElementClickInterceptedException\u001b[0m          Traceback (most recent call last)",
      "\u001b[1;32mc:\\Andy\\Programming Projects\\human-benchmark-bot\\human-benchmark-bot\\aim_trainer.ipynb Cell 3'\u001b[0m in \u001b[0;36m<cell line: 2>\u001b[1;34m()\u001b[0m\n\u001b[0;32m      <a href='vscode-notebook-cell:/c%3A/Andy/Programming%20Projects/human-benchmark-bot/human-benchmark-bot/aim_trainer.ipynb#ch0000002?line=0'>1</a>\u001b[0m target \u001b[39m=\u001b[39m browser\u001b[39m.\u001b[39mfind_element(by\u001b[39m=\u001b[39mBy\u001b[39m.\u001b[39mCLASS_NAME, value\u001b[39m=\u001b[39m\u001b[39m\"\u001b[39m\u001b[39mcss-ad1j3y.e6yfngs2\u001b[39m\u001b[39m\"\u001b[39m)\n\u001b[1;32m----> <a href='vscode-notebook-cell:/c%3A/Andy/Programming%20Projects/human-benchmark-bot/human-benchmark-bot/aim_trainer.ipynb#ch0000002?line=1'>2</a>\u001b[0m target\u001b[39m.\u001b[39;49mclick()\n\u001b[0;32m      <a href='vscode-notebook-cell:/c%3A/Andy/Programming%20Projects/human-benchmark-bot/human-benchmark-bot/aim_trainer.ipynb#ch0000002?line=2'>3</a>\u001b[0m time\u001b[39m.\u001b[39msleep(\u001b[39m0.5\u001b[39m)\n\u001b[0;32m      <a href='vscode-notebook-cell:/c%3A/Andy/Programming%20Projects/human-benchmark-bot/human-benchmark-bot/aim_trainer.ipynb#ch0000002?line=3'>4</a>\u001b[0m \u001b[39mfor\u001b[39;00m i \u001b[39min\u001b[39;00m \u001b[39mrange\u001b[39m(\u001b[39m30\u001b[39m):\n",
      "File \u001b[1;32mc:\\Users\\Jian\\AppData\\Local\\Programs\\Python\\Python39\\lib\\site-packages\\selenium\\webdriver\\remote\\webelement.py:81\u001b[0m, in \u001b[0;36mWebElement.click\u001b[1;34m(self)\u001b[0m\n\u001b[0;32m     <a href='file:///c%3A/Users/Jian/AppData/Local/Programs/Python/Python39/lib/site-packages/selenium/webdriver/remote/webelement.py?line=78'>79</a>\u001b[0m \u001b[39mdef\u001b[39;00m \u001b[39mclick\u001b[39m(\u001b[39mself\u001b[39m) \u001b[39m-\u001b[39m\u001b[39m>\u001b[39m \u001b[39mNone\u001b[39;00m:\n\u001b[0;32m     <a href='file:///c%3A/Users/Jian/AppData/Local/Programs/Python/Python39/lib/site-packages/selenium/webdriver/remote/webelement.py?line=79'>80</a>\u001b[0m     \u001b[39m\"\"\"Clicks the element.\"\"\"\u001b[39;00m\n\u001b[1;32m---> <a href='file:///c%3A/Users/Jian/AppData/Local/Programs/Python/Python39/lib/site-packages/selenium/webdriver/remote/webelement.py?line=80'>81</a>\u001b[0m     \u001b[39mself\u001b[39;49m\u001b[39m.\u001b[39;49m_execute(Command\u001b[39m.\u001b[39;49mCLICK_ELEMENT)\n",
      "File \u001b[1;32mc:\\Users\\Jian\\AppData\\Local\\Programs\\Python\\Python39\\lib\\site-packages\\selenium\\webdriver\\remote\\webelement.py:740\u001b[0m, in \u001b[0;36mWebElement._execute\u001b[1;34m(self, command, params)\u001b[0m\n\u001b[0;32m    <a href='file:///c%3A/Users/Jian/AppData/Local/Programs/Python/Python39/lib/site-packages/selenium/webdriver/remote/webelement.py?line=737'>738</a>\u001b[0m     params \u001b[39m=\u001b[39m {}\n\u001b[0;32m    <a href='file:///c%3A/Users/Jian/AppData/Local/Programs/Python/Python39/lib/site-packages/selenium/webdriver/remote/webelement.py?line=738'>739</a>\u001b[0m params[\u001b[39m'\u001b[39m\u001b[39mid\u001b[39m\u001b[39m'\u001b[39m] \u001b[39m=\u001b[39m \u001b[39mself\u001b[39m\u001b[39m.\u001b[39m_id\n\u001b[1;32m--> <a href='file:///c%3A/Users/Jian/AppData/Local/Programs/Python/Python39/lib/site-packages/selenium/webdriver/remote/webelement.py?line=739'>740</a>\u001b[0m \u001b[39mreturn\u001b[39;00m \u001b[39mself\u001b[39;49m\u001b[39m.\u001b[39;49m_parent\u001b[39m.\u001b[39;49mexecute(command, params)\n",
      "File \u001b[1;32mc:\\Users\\Jian\\AppData\\Local\\Programs\\Python\\Python39\\lib\\site-packages\\selenium\\webdriver\\remote\\webdriver.py:430\u001b[0m, in \u001b[0;36mWebDriver.execute\u001b[1;34m(self, driver_command, params)\u001b[0m\n\u001b[0;32m    <a href='file:///c%3A/Users/Jian/AppData/Local/Programs/Python/Python39/lib/site-packages/selenium/webdriver/remote/webdriver.py?line=427'>428</a>\u001b[0m response \u001b[39m=\u001b[39m \u001b[39mself\u001b[39m\u001b[39m.\u001b[39mcommand_executor\u001b[39m.\u001b[39mexecute(driver_command, params)\n\u001b[0;32m    <a href='file:///c%3A/Users/Jian/AppData/Local/Programs/Python/Python39/lib/site-packages/selenium/webdriver/remote/webdriver.py?line=428'>429</a>\u001b[0m \u001b[39mif\u001b[39;00m response:\n\u001b[1;32m--> <a href='file:///c%3A/Users/Jian/AppData/Local/Programs/Python/Python39/lib/site-packages/selenium/webdriver/remote/webdriver.py?line=429'>430</a>\u001b[0m     \u001b[39mself\u001b[39;49m\u001b[39m.\u001b[39;49merror_handler\u001b[39m.\u001b[39;49mcheck_response(response)\n\u001b[0;32m    <a href='file:///c%3A/Users/Jian/AppData/Local/Programs/Python/Python39/lib/site-packages/selenium/webdriver/remote/webdriver.py?line=430'>431</a>\u001b[0m     response[\u001b[39m'\u001b[39m\u001b[39mvalue\u001b[39m\u001b[39m'\u001b[39m] \u001b[39m=\u001b[39m \u001b[39mself\u001b[39m\u001b[39m.\u001b[39m_unwrap_value(\n\u001b[0;32m    <a href='file:///c%3A/Users/Jian/AppData/Local/Programs/Python/Python39/lib/site-packages/selenium/webdriver/remote/webdriver.py?line=431'>432</a>\u001b[0m         response\u001b[39m.\u001b[39mget(\u001b[39m'\u001b[39m\u001b[39mvalue\u001b[39m\u001b[39m'\u001b[39m, \u001b[39mNone\u001b[39;00m))\n\u001b[0;32m    <a href='file:///c%3A/Users/Jian/AppData/Local/Programs/Python/Python39/lib/site-packages/selenium/webdriver/remote/webdriver.py?line=432'>433</a>\u001b[0m     \u001b[39mreturn\u001b[39;00m response\n",
      "File \u001b[1;32mc:\\Users\\Jian\\AppData\\Local\\Programs\\Python\\Python39\\lib\\site-packages\\selenium\\webdriver\\remote\\errorhandler.py:247\u001b[0m, in \u001b[0;36mErrorHandler.check_response\u001b[1;34m(self, response)\u001b[0m\n\u001b[0;32m    <a href='file:///c%3A/Users/Jian/AppData/Local/Programs/Python/Python39/lib/site-packages/selenium/webdriver/remote/errorhandler.py?line=244'>245</a>\u001b[0m         alert_text \u001b[39m=\u001b[39m value[\u001b[39m'\u001b[39m\u001b[39malert\u001b[39m\u001b[39m'\u001b[39m]\u001b[39m.\u001b[39mget(\u001b[39m'\u001b[39m\u001b[39mtext\u001b[39m\u001b[39m'\u001b[39m)\n\u001b[0;32m    <a href='file:///c%3A/Users/Jian/AppData/Local/Programs/Python/Python39/lib/site-packages/selenium/webdriver/remote/errorhandler.py?line=245'>246</a>\u001b[0m     \u001b[39mraise\u001b[39;00m exception_class(message, screen, stacktrace, alert_text)  \u001b[39m# type: ignore[call-arg]  # mypy is not smart enough here\u001b[39;00m\n\u001b[1;32m--> <a href='file:///c%3A/Users/Jian/AppData/Local/Programs/Python/Python39/lib/site-packages/selenium/webdriver/remote/errorhandler.py?line=246'>247</a>\u001b[0m \u001b[39mraise\u001b[39;00m exception_class(message, screen, stacktrace)\n",
      "\u001b[1;31mElementClickInterceptedException\u001b[0m: Message: element click intercepted: Element <div class=\"css-ad1j3y e6yfngs2\"></div> is not clickable at point (505, 318). Other element would receive the click: <div class=\"css-17nnhwz e6yfngs4\" style=\"width: 100px; height: 2px;\"></div>\n  (Session info: chrome=101.0.4951.67)\nStacktrace:\nBacktrace:\n\tOrdinal0 [0x0080B8F3+2406643]\n\tOrdinal0 [0x0079AF31+1945393]\n\tOrdinal0 [0x0068C748+837448]\n\tOrdinal0 [0x006BFA1B+1047067]\n\tOrdinal0 [0x006BD9F8+1038840]\n\tOrdinal0 [0x006BB6DB+1029851]\n\tOrdinal0 [0x006BA439+1025081]\n\tOrdinal0 [0x006B0083+983171]\n\tOrdinal0 [0x006D427C+1131132]\n\tOrdinal0 [0x006AFA64+981604]\n\tOrdinal0 [0x006D4494+1131668]\n\tOrdinal0 [0x006E4682+1197698]\n\tOrdinal0 [0x006D4096+1130646]\n\tOrdinal0 [0x006AE636+976438]\n\tOrdinal0 [0x006AF546+980294]\n\tGetHandleVerifier [0x00A79612+2498066]\n\tGetHandleVerifier [0x00A6C920+2445600]\n\tGetHandleVerifier [0x008A4F2A+579370]\n\tGetHandleVerifier [0x008A3D36+574774]\n\tOrdinal0 [0x007A1C0B+1973259]\n\tOrdinal0 [0x007A6688+1992328]\n\tOrdinal0 [0x007A6775+1992565]\n\tOrdinal0 [0x007AF8D1+2029777]\n\tBaseThreadInitThunk [0x7542FA29+25]\n\tRtlGetAppContainerNamedObjectPath [0x77527A7E+286]\n\tRtlGetAppContainerNamedObjectPath [0x77527A4E+238]\n"
     ]
    }
   ],
   "source": [
    "target = browser.find_element(by=By.CLASS_NAME, value=\"css-ad1j3y.e6yfngs4\")\n",
    "target.click()\n",
    "time.sleep(0.5)\n",
    "for i in range(30):\n",
    "    target = browser.find_element(by=By.CLASS_NAME, value=\"css-17nnhwz.e6yfngs3\")\n",
    "    target.click()\n",
    "    time.sleep(0.05)"
   ]
  }
 ],
 "metadata": {
  "interpreter": {
   "hash": "57dba6ee76e5060b09d57d323dd18f4faf1c14e1eaac643bee8cef7774c6a2a1"
  },
  "kernelspec": {
   "display_name": "Python 3.9.7 64-bit",
   "language": "python",
   "name": "python3"
  },
  "language_info": {
   "codemirror_mode": {
    "name": "ipython",
    "version": 3
   },
   "file_extension": ".py",
   "mimetype": "text/x-python",
   "name": "python",
   "nbconvert_exporter": "python",
   "pygments_lexer": "ipython3",
   "version": "3.9.7"
  },
  "orig_nbformat": 4
 },
 "nbformat": 4,
 "nbformat_minor": 2
}
